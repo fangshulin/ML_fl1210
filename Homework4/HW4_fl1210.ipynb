{
 "cells": [
  {
   "cell_type": "markdown",
   "metadata": {},
   "source": [
    "## MLC HW 4\n",
    "\n",
    "### Question 1 (40 points)\n",
    "\n",
    "In this question, you will model traffic counts in Pittsburgh using Gaussian process (GP) regression.  The included dataset, \"PittsburghTrafficCounts.csv\", represents the average daily traffic counts computed by traffic sensors at over 1,100 locations in Allegheny County, PA.  The data was collected from years 2012-2014 and compiled by Carnegie Mellon University’s Traffic21 Institute; we have the longitude, latitude, and average daily count for each sensor.  \n",
    "\n",
    "Given this dataset, your goal is to learn a model of traffic count as a function of spatial location.  To do so, fit a Gaussian Process regression model to the observed data.  While you can decide on the precise kernel specification, you should try to achieve a good model fit, as quantified by a log marginal likelihood value greater than (i.e., less negative than) -1400.  Here are some hints for getting a good model fit:\n",
    "\n",
    "* We recommend that you take the logarithm of the traffic counts, and then subtract the mean of this vector, before fitting the model.\n",
    "\n",
    "* Since the data is noisy, don't forget to include a noise term (WhiteKernel) in your model.\n",
    "\n",
    "* When fitting a GP with RBF kernel on multidimensional data, you can learn a separate length scale for each dimension, e.g., length_scale=(length_scale_x, length_scale_y). \n",
    "\n",
    "Your Python code should provide the following five outputs:\n",
    "\n",
    "1) The kernel after parameter optimization and fitting to the observed data. (10 pts)\n",
    "\n",
    "2) The log marginal likelihood of the training data. (5 pts)\n",
    "\n",
    "3) Show a 2-D plot of the model's predictions over a mesh grid of longitude/latitude (with color corresponding to the model's predictions) and overlay a 2-D scatter plot of sensor locations (with color corresponding to the observed values). (10 pts)\n",
    "\n",
    "4) What percentage of sensors have average traffic counts more than two standard deviations higher or lower than the model predicts given their spatial location? (5 pts)\n",
    "\n",
    "5) Show a 2-D scatter plot of the sensor locations, with three colors corresponding to observed values a) more than two standard deviations higher than predicted, b) more then two standard deviations lower than predicted, and c) within two standard deviations of the predicted values. (10 pts)\n"
   ]
  },
  {
   "cell_type": "code",
   "execution_count": 1,
   "metadata": {},
   "outputs": [
    {
     "data": {
      "text/html": [
       "<div>\n",
       "<table border=\"1\" class=\"dataframe\">\n",
       "  <thead>\n",
       "    <tr style=\"text-align: right;\">\n",
       "      <th></th>\n",
       "      <th>Longitude</th>\n",
       "      <th>Latitude</th>\n",
       "      <th>AvgDailyTrafficCount</th>\n",
       "    </tr>\n",
       "  </thead>\n",
       "  <tbody>\n",
       "    <tr>\n",
       "      <th>0</th>\n",
       "      <td>-80.278366</td>\n",
       "      <td>40.468606</td>\n",
       "      <td>84.0</td>\n",
       "    </tr>\n",
       "    <tr>\n",
       "      <th>1</th>\n",
       "      <td>-80.162117</td>\n",
       "      <td>40.384598</td>\n",
       "      <td>95.0</td>\n",
       "    </tr>\n",
       "    <tr>\n",
       "      <th>2</th>\n",
       "      <td>-80.221205</td>\n",
       "      <td>40.366778</td>\n",
       "      <td>97.0</td>\n",
       "    </tr>\n",
       "    <tr>\n",
       "      <th>3</th>\n",
       "      <td>-80.142455</td>\n",
       "      <td>40.622084</td>\n",
       "      <td>111.0</td>\n",
       "    </tr>\n",
       "    <tr>\n",
       "      <th>4</th>\n",
       "      <td>-80.131975</td>\n",
       "      <td>40.544915</td>\n",
       "      <td>125.0</td>\n",
       "    </tr>\n",
       "  </tbody>\n",
       "</table>\n",
       "</div>"
      ],
      "text/plain": [
       "   Longitude   Latitude  AvgDailyTrafficCount\n",
       "0 -80.278366  40.468606                  84.0\n",
       "1 -80.162117  40.384598                  95.0\n",
       "2 -80.221205  40.366778                  97.0\n",
       "3 -80.142455  40.622084                 111.0\n",
       "4 -80.131975  40.544915                 125.0"
      ]
     },
     "execution_count": 1,
     "metadata": {},
     "output_type": "execute_result"
    }
   ],
   "source": [
    "import pandas as pd\n",
    "import numpy as np\n",
    "Data1=pd.read_csv(\"PittsburghTrafficCounts.csv\")\n",
    "Data1.head()"
   ]
  },
  {
   "cell_type": "code",
   "execution_count": 2,
   "metadata": {
    "collapsed": true
   },
   "outputs": [],
   "source": [
    "Data1['logCount'] = np.log(Data1['AvgDailyTrafficCount'])"
   ]
  },
  {
   "cell_type": "code",
   "execution_count": 3,
   "metadata": {},
   "outputs": [
    {
     "data": {
      "text/html": [
       "<div>\n",
       "<table border=\"1\" class=\"dataframe\">\n",
       "  <thead>\n",
       "    <tr style=\"text-align: right;\">\n",
       "      <th></th>\n",
       "      <th>Longitude</th>\n",
       "      <th>Latitude</th>\n",
       "      <th>AvgDailyTrafficCount</th>\n",
       "      <th>logCount</th>\n",
       "    </tr>\n",
       "  </thead>\n",
       "  <tbody>\n",
       "    <tr>\n",
       "      <th>0</th>\n",
       "      <td>-80.278366</td>\n",
       "      <td>40.468606</td>\n",
       "      <td>84.0</td>\n",
       "      <td>4.430817</td>\n",
       "    </tr>\n",
       "    <tr>\n",
       "      <th>1</th>\n",
       "      <td>-80.162117</td>\n",
       "      <td>40.384598</td>\n",
       "      <td>95.0</td>\n",
       "      <td>4.553877</td>\n",
       "    </tr>\n",
       "    <tr>\n",
       "      <th>2</th>\n",
       "      <td>-80.221205</td>\n",
       "      <td>40.366778</td>\n",
       "      <td>97.0</td>\n",
       "      <td>4.574711</td>\n",
       "    </tr>\n",
       "    <tr>\n",
       "      <th>3</th>\n",
       "      <td>-80.142455</td>\n",
       "      <td>40.622084</td>\n",
       "      <td>111.0</td>\n",
       "      <td>4.709530</td>\n",
       "    </tr>\n",
       "    <tr>\n",
       "      <th>4</th>\n",
       "      <td>-80.131975</td>\n",
       "      <td>40.544915</td>\n",
       "      <td>125.0</td>\n",
       "      <td>4.828314</td>\n",
       "    </tr>\n",
       "  </tbody>\n",
       "</table>\n",
       "</div>"
      ],
      "text/plain": [
       "   Longitude   Latitude  AvgDailyTrafficCount  logCount\n",
       "0 -80.278366  40.468606                  84.0  4.430817\n",
       "1 -80.162117  40.384598                  95.0  4.553877\n",
       "2 -80.221205  40.366778                  97.0  4.574711\n",
       "3 -80.142455  40.622084                 111.0  4.709530\n",
       "4 -80.131975  40.544915                 125.0  4.828314"
      ]
     },
     "execution_count": 3,
     "metadata": {},
     "output_type": "execute_result"
    }
   ],
   "source": [
    "Data1.head()"
   ]
  },
  {
   "cell_type": "code",
   "execution_count": 4,
   "metadata": {},
   "outputs": [
    {
     "data": {
      "text/plain": [
       "Longitude                -79.981176\n",
       "Latitude                  40.457091\n",
       "AvgDailyTrafficCount    6042.008595\n",
       "logCount                   8.408343\n",
       "dtype: float64"
      ]
     },
     "execution_count": 4,
     "metadata": {},
     "output_type": "execute_result"
    }
   ],
   "source": [
    "Data1.mean(axis=0)"
   ]
  },
  {
   "cell_type": "code",
   "execution_count": 5,
   "metadata": {
    "collapsed": true
   },
   "outputs": [],
   "source": [
    "Data1['logCount'] = Data1['logCount'] - Data1.mean(axis=0)['logCount']"
   ]
  },
  {
   "cell_type": "code",
   "execution_count": 6,
   "metadata": {},
   "outputs": [
    {
     "data": {
      "text/html": [
       "<div>\n",
       "<table border=\"1\" class=\"dataframe\">\n",
       "  <thead>\n",
       "    <tr style=\"text-align: right;\">\n",
       "      <th></th>\n",
       "      <th>Longitude</th>\n",
       "      <th>Latitude</th>\n",
       "      <th>AvgDailyTrafficCount</th>\n",
       "      <th>logCount</th>\n",
       "    </tr>\n",
       "  </thead>\n",
       "  <tbody>\n",
       "    <tr>\n",
       "      <th>0</th>\n",
       "      <td>-80.278366</td>\n",
       "      <td>40.468606</td>\n",
       "      <td>84.0</td>\n",
       "      <td>-3.977526</td>\n",
       "    </tr>\n",
       "    <tr>\n",
       "      <th>1</th>\n",
       "      <td>-80.162117</td>\n",
       "      <td>40.384598</td>\n",
       "      <td>95.0</td>\n",
       "      <td>-3.854466</td>\n",
       "    </tr>\n",
       "    <tr>\n",
       "      <th>2</th>\n",
       "      <td>-80.221205</td>\n",
       "      <td>40.366778</td>\n",
       "      <td>97.0</td>\n",
       "      <td>-3.833632</td>\n",
       "    </tr>\n",
       "    <tr>\n",
       "      <th>3</th>\n",
       "      <td>-80.142455</td>\n",
       "      <td>40.622084</td>\n",
       "      <td>111.0</td>\n",
       "      <td>-3.698812</td>\n",
       "    </tr>\n",
       "    <tr>\n",
       "      <th>4</th>\n",
       "      <td>-80.131975</td>\n",
       "      <td>40.544915</td>\n",
       "      <td>125.0</td>\n",
       "      <td>-3.580029</td>\n",
       "    </tr>\n",
       "  </tbody>\n",
       "</table>\n",
       "</div>"
      ],
      "text/plain": [
       "   Longitude   Latitude  AvgDailyTrafficCount  logCount\n",
       "0 -80.278366  40.468606                  84.0 -3.977526\n",
       "1 -80.162117  40.384598                  95.0 -3.854466\n",
       "2 -80.221205  40.366778                  97.0 -3.833632\n",
       "3 -80.142455  40.622084                 111.0 -3.698812\n",
       "4 -80.131975  40.544915                 125.0 -3.580029"
      ]
     },
     "execution_count": 6,
     "metadata": {},
     "output_type": "execute_result"
    }
   ],
   "source": [
    "Data1.head()"
   ]
  },
  {
   "cell_type": "code",
   "execution_count": 7,
   "metadata": {
    "collapsed": true
   },
   "outputs": [],
   "source": [
    "X = Data1.iloc[:,0:2]\n",
    "Y = Data1.iloc[:,-1]"
   ]
  },
  {
   "cell_type": "markdown",
   "metadata": {},
   "source": [
    "### 1)&2)"
   ]
  },
  {
   "cell_type": "code",
   "execution_count": 8,
   "metadata": {},
   "outputs": [
    {
     "name": "stdout",
     "output_type": "stream",
     "text": [
      "-1364.40499295\n",
      "0.658**2 * RBF(length_scale=[0.0326, 0.0395]) + WhiteKernel(noise_level=0.568)\n"
     ]
    }
   ],
   "source": [
    "from matplotlib import pyplot as plt\n",
    "from sklearn.gaussian_process import GaussianProcessRegressor\n",
    "from sklearn.gaussian_process.kernels import RBF, ConstantKernel,WhiteKernel\n",
    "np.random.seed(1)\n",
    "length_scale = (1., 1.)\n",
    "kernel = 1.* RBF(length_scale, length_scale_bounds=(1e-2, 1e2)) \\\n",
    "    + WhiteKernel(noise_level=1., noise_level_bounds=(1e-10, 1e10))\n",
    "\n",
    "gpc_rbf = GaussianProcessRegressor(kernel=kernel,random_state=1)\n",
    "\n",
    "# Fit to data using Maximum Likelihood Estimation of the parameters\n",
    "gpc_rbf.fit(X, Y)\n",
    "print gpc_rbf.log_marginal_likelihood_value_\n",
    "print gpc_rbf.kernel_"
   ]
  },
  {
   "cell_type": "markdown",
   "metadata": {},
   "source": [
    "### 3）"
   ]
  },
  {
   "cell_type": "code",
   "execution_count": 9,
   "metadata": {
    "collapsed": true
   },
   "outputs": [],
   "source": [
    "h = .01  # step size in the mesh\n",
    "x_min, x_max = X.iloc[:, 0].min() - 0.1, X.iloc[:, 0].max() + 0.1\n",
    "y_min, y_max = X.iloc[:, 1].min() - 0.1, X.iloc[:, 1].max() + 0.1\n",
    "\n",
    "xx, yy = np.meshgrid(np.arange(x_min, x_max, h),\n",
    "                     np.arange(y_min, y_max, h))"
   ]
  },
  {
   "cell_type": "code",
   "execution_count": 10,
   "metadata": {},
   "outputs": [
    {
     "data": {
      "image/png": "[encoded data removed]",
      "text/plain": [
       "<matplotlib.figure.Figure at 0xb8e47f0>"
      ]
     },
     "metadata": {},
     "output_type": "display_data"
    }
   ],
   "source": [
    "plt.figure(figsize=(10, 8))\n",
    "    # Plot the predicted probabilities. For that, we will assign a color to\n",
    "    # each point in the mesh [x_min, m_max]x[y_min, y_max].\n",
    "# plt.subplot(1, 1, 1)\n",
    "\n",
    "# y_mesh_pred, sigma = gp.predict(x_mesh, return_std=True)\n",
    "\n",
    "Z, sigma = gpc_rbf.predict(np.c_[xx.ravel(), yy.ravel()], return_std=True)\n",
    "# Put the result into a color plot\n",
    "Z = Z.reshape((xx.shape[0], xx.shape[1]))\n",
    "plt.imshow(Z, extent=(x_min, x_max, y_min, y_max), origin=\"lower\")\n",
    "# Plot also the training points\n",
    "plt.scatter(X.iloc[:, 0], X.iloc[:, 1], c=Y)\n",
    "plt.xlabel('Longitude')\n",
    "plt.ylabel('Latitude')\n",
    "plt.xlim(xx.min(), xx.max())\n",
    "plt.ylim(yy.min(), yy.max())\n",
    "# plt.xticks(())\n",
    "# plt.yticks(())\n",
    "plt.title(\"%s, LML: %.3f\" %\n",
    "          (\"RBF\", gpc_rbf.log_marginal_likelihood(gpc_rbf.kernel_.theta)))\n",
    "\n",
    "plt.tight_layout()\n",
    "plt.show()"
   ]
  },
  {
   "cell_type": "markdown",
   "metadata": {},
   "source": [
    "### 4)"
   ]
  },
  {
   "cell_type": "code",
   "execution_count": 11,
   "metadata": {
    "collapsed": true
   },
   "outputs": [],
   "source": [
    "Z, sigma = gpc_rbf.predict(X, return_std=True)"
   ]
  },
  {
   "cell_type": "code",
   "execution_count": 12,
   "metadata": {
    "collapsed": true
   },
   "outputs": [],
   "source": [
    "Data1['label'] = (Y > Z + 2*np.std(Z)) * 2 + (Y < Z - 2*np.std(Z)) * 1 "
   ]
  },
  {
   "cell_type": "code",
   "execution_count": 13,
   "metadata": {},
   "outputs": [
    {
     "name": "stdout",
     "output_type": "stream",
     "text": [
      "0.117 of sensors have average traffic counts more than two standard deviations higher or lower than the model predicts\n"
     ]
    }
   ],
   "source": [
    "print('%.3f of sensors have average traffic counts more than two standard deviations higher or lower than the model predicts'\\\n",
    "      %(1.0*len(Data1[(Data1['label'] == 1) | (Data1['label'] == 2)]) / len(Data1)))"
   ]
  },
  {
   "cell_type": "markdown",
   "metadata": {},
   "source": [
    "### 5)"
   ]
  },
  {
   "cell_type": "code",
   "execution_count": 14,
   "metadata": {},
   "outputs": [
    {
     "data": {
      "image/png": "[encoded data removed]",
      "text/plain": [
       "<matplotlib.figure.Figure at 0xb8e4080>"
      ]
     },
     "metadata": {},
     "output_type": "display_data"
    }
   ],
   "source": [
    "plt.figure(figsize=(10, 8))\n",
    "# Plot also the training points\n",
    "labels = ['foo', 'bar', 'baz']\n",
    "plt.scatter(X.iloc[:, 0], X.iloc[:, 1], c=np.array([\"b\", \"g\", \"orange\"])[Data1['label'].values])\n",
    "plt.xlabel('Longitude')\n",
    "plt.ylabel('Latitude')\n",
    "plt.xlim(xx.min(), xx.max())\n",
    "plt.ylim(yy.min(), yy.max())\n",
    "# plt.xticks(())\n",
    "# plt.yticks(())\n",
    "plt.title(\"%s, LML: %.3f\" %\n",
    "          (\"RBF\", gpc_rbf.log_marginal_likelihood(gpc_rbf.kernel_.theta)))\n",
    "\n",
    "plt.tight_layout()\n",
    "plt.show()"
   ]
  },
  {
   "cell_type": "markdown",
   "metadata": {
    "collapsed": true
   },
   "source": [
    "### Question 2: Cluster-based anomaly detection (10 points)\n",
    "\n",
    "Given an unlabeled dataset with two real-valued attributes, we perform cluster-based anomaly detection by running k-means, choosing the number of clusters k automatically using the Schwarz criterion.  Four clusters are formed:\n",
    "\n",
    "A: 100 points, center (0, 0), standard deviation 0.1\n",
    "\n",
    "B: 150 points, center (35, 5), standard deviation 5\n",
    "\n",
    "C: 2 points, center (15, 20), standard deviation 1\n",
    "\n",
    "D: 200 points, center (10, 10), standard deviation 1\n",
    "\n",
    "Given the four points below, which of these points are, and are not, likely to be anomalies?  Choose “Anomaly” or “Not Anomaly”, and provide a brief explanation, for each point. \n",
    "(Hint: your answers should take into account the size and standard deviation of each cluster as well as the distances to cluster centers.)\n",
    "\n",
    "(1, 0)\t\tAnomaly\n",
    "\n",
    "\n",
    "(35, 2)\t\tNot Anomaly\n",
    "\n",
    "\n",
    "(15, 19)\tAnomaly\n",
    "\n",
    "\n",
    "(10, 11)\tNot Anomaly\n"
   ]
  },
  {
   "cell_type": "markdown",
   "metadata": {},
   "source": [
    "Cluster size is 100. Distance from (1,0) to (0,0) is 1. But 2\\*sigma = 0.2 which is much smaller than 1. Therefore it is anomaly.\n",
    "\n",
    "Cluster size is 150. Distance from (35,2) to (35,5) is 3. 2\\*sigma = 10 which is larger than 3. Therefore it is not anomaly.\n",
    "\n",
    "Distance from (15,19) to (15,20) is 1. But cluster size is 2 which is too small. Therefore it is anomaly.\n",
    "\n",
    "Cluster size is 200. Distance from (10,11) to (10,10) is 1. 2\\*sigma = 2 which is larger than 1. Therefore it is not anomaly."
   ]
  },
  {
   "cell_type": "markdown",
   "metadata": {},
   "source": [
    "### Question 3: Anomaly detection (50 points)\n",
    "\n",
    "For this question, use the \"County Health Indicators\" dataset provided to identify the most anomalous counties. Please list the top 5 most anomalous counties computed using each of the following models.  (We recommend that, as a pre-processing step, you drop na values, and make sure all numeric values are treated as floats not strings.)\n",
    "\n",
    "Part 1: Learn a Bayesian network structure using only the six features [\"'\\% Smokers'\",\"'\\% Obese'\",\"'Violent Crime Rate'\",\"'80/20 Income Ratio'\",\"'\\% Children in Poverty'\",\"'Average Daily PM2.5'\"].  Use pd.cut() to discretize each feature into 5 categories: 0,1,2,3,4. \n",
    "\n",
    "(a) Use HillClimbSearch and BicScore to learn the Bayesian network structure (5 pts) \n",
    "\n",
    "(b) Which 5 counties have the lowest (most negative) log-likelihood values? Please show a ranked list of the top counties' names and log-likelihood values. (10 pts)\n",
    "\n",
    "Part 2: Cluster based anomaly detection.  Use all numeric features for this part, and do not discretize. \n",
    "\n",
    "(a) Clustering with k-means. Please use k=3 clusters. Compute each record's distance to the nearest cluster center and report the five counties which have the longest distances. (10 pts)\n",
    "\n",
    "(b) Cluster with Gaussian Mixture. Please repeat (2)a but use log-likelihood for each record (rather than distance) as the measure of anomalousness. (10 pts)\n",
    "\n",
    "Part 3: Choose one more anomaly detection model you prefer and report the top 5 most anomalous counties by the model you chose.  (10 pts)\n",
    "\n",
    "Part 4: Compare and contrast the results from the different models.  Were there some counties that were found to be anomalous in some models and not in others?  Please provide some intuitions on why each county was found to be anomalous. (5 pts)"
   ]
  },
  {
   "cell_type": "markdown",
   "metadata": {},
   "source": [
    "### Part 1"
   ]
  },
  {
   "cell_type": "code",
   "execution_count": 15,
   "metadata": {},
   "outputs": [
    {
     "data": {
      "text/html": [
       "<div>\n",
       "<table border=\"1\" class=\"dataframe\">\n",
       "  <thead>\n",
       "    <tr style=\"text-align: right;\">\n",
       "      <th></th>\n",
       "      <th>County</th>\n",
       "      <th>'\\% Reporting Fair/Poor Health'</th>\n",
       "      <th>'Physically Unhealthy Days Per Month'</th>\n",
       "      <th>'Mentally Unhealthy Days Per Month'</th>\n",
       "      <th>'\\% Low birth weight births'</th>\n",
       "      <th>'\\% Smokers'</th>\n",
       "      <th>'\\% Obese'</th>\n",
       "      <th>'Food Environment Index'</th>\n",
       "      <th>'\\% Physically Inactive'</th>\n",
       "      <th>'\\% With Access To Exercise'</th>\n",
       "      <th>...</th>\n",
       "      <th>'\\% Children in Poverty'</th>\n",
       "      <th>'80/20 Income Ratio'</th>\n",
       "      <th>'\\% Single-Parent Households'</th>\n",
       "      <th>'Association Rate'</th>\n",
       "      <th>'Violent Crime Rate'</th>\n",
       "      <th>'Injury Death Rate'</th>\n",
       "      <th>'Average Daily PM2.5'</th>\n",
       "      <th>'\\% Severe Housing Problems'</th>\n",
       "      <th>'\\% Drive Alone'</th>\n",
       "      <th>'\\% Long Commute - Drives Alone'</th>\n",
       "    </tr>\n",
       "  </thead>\n",
       "  <tbody>\n",
       "    <tr>\n",
       "      <th>0</th>\n",
       "      <td>Autauga, Alabama</td>\n",
       "      <td>19</td>\n",
       "      <td>4.4</td>\n",
       "      <td>4.3</td>\n",
       "      <td>9</td>\n",
       "      <td>19</td>\n",
       "      <td>31</td>\n",
       "      <td>7.1</td>\n",
       "      <td>29</td>\n",
       "      <td>71</td>\n",
       "      <td>...</td>\n",
       "      <td>18</td>\n",
       "      <td>4.3</td>\n",
       "      <td>27</td>\n",
       "      <td>13.8</td>\n",
       "      <td>254</td>\n",
       "      <td>76</td>\n",
       "      <td>12.9</td>\n",
       "      <td>14</td>\n",
       "      <td>89</td>\n",
       "      <td>42</td>\n",
       "    </tr>\n",
       "    <tr>\n",
       "      <th>1</th>\n",
       "      <td>Baldwin, Alabama</td>\n",
       "      <td>16</td>\n",
       "      <td>4.1</td>\n",
       "      <td>4.2</td>\n",
       "      <td>9</td>\n",
       "      <td>19</td>\n",
       "      <td>27</td>\n",
       "      <td>7.6</td>\n",
       "      <td>25</td>\n",
       "      <td>72</td>\n",
       "      <td>...</td>\n",
       "      <td>20</td>\n",
       "      <td>4.5</td>\n",
       "      <td>28</td>\n",
       "      <td>12.0</td>\n",
       "      <td>221</td>\n",
       "      <td>70</td>\n",
       "      <td>13.1</td>\n",
       "      <td>15</td>\n",
       "      <td>84</td>\n",
       "      <td>37</td>\n",
       "    </tr>\n",
       "    <tr>\n",
       "      <th>2</th>\n",
       "      <td>Barbour, Alabama</td>\n",
       "      <td>26</td>\n",
       "      <td>4.9</td>\n",
       "      <td>4.7</td>\n",
       "      <td>12</td>\n",
       "      <td>21</td>\n",
       "      <td>41</td>\n",
       "      <td>5.1</td>\n",
       "      <td>33</td>\n",
       "      <td>45</td>\n",
       "      <td>...</td>\n",
       "      <td>38</td>\n",
       "      <td>5.3</td>\n",
       "      <td>54</td>\n",
       "      <td>8.1</td>\n",
       "      <td>147</td>\n",
       "      <td>64</td>\n",
       "      <td>12.6</td>\n",
       "      <td>18</td>\n",
       "      <td>84</td>\n",
       "      <td>35</td>\n",
       "    </tr>\n",
       "    <tr>\n",
       "      <th>3</th>\n",
       "      <td>Bibb, Alabama</td>\n",
       "      <td>22</td>\n",
       "      <td>4.8</td>\n",
       "      <td>4.6</td>\n",
       "      <td>12</td>\n",
       "      <td>21</td>\n",
       "      <td>40</td>\n",
       "      <td>7.4</td>\n",
       "      <td>33</td>\n",
       "      <td>33</td>\n",
       "      <td>...</td>\n",
       "      <td>27</td>\n",
       "      <td>4.3</td>\n",
       "      <td>32</td>\n",
       "      <td>9.8</td>\n",
       "      <td>236</td>\n",
       "      <td>75</td>\n",
       "      <td>12.9</td>\n",
       "      <td>13</td>\n",
       "      <td>84</td>\n",
       "      <td>46</td>\n",
       "    </tr>\n",
       "    <tr>\n",
       "      <th>4</th>\n",
       "      <td>Blount, Alabama</td>\n",
       "      <td>21</td>\n",
       "      <td>4.6</td>\n",
       "      <td>4.5</td>\n",
       "      <td>7</td>\n",
       "      <td>19</td>\n",
       "      <td>32</td>\n",
       "      <td>8.3</td>\n",
       "      <td>29</td>\n",
       "      <td>26</td>\n",
       "      <td>...</td>\n",
       "      <td>24</td>\n",
       "      <td>4.1</td>\n",
       "      <td>28</td>\n",
       "      <td>8.5</td>\n",
       "      <td>219</td>\n",
       "      <td>89</td>\n",
       "      <td>12.7</td>\n",
       "      <td>12</td>\n",
       "      <td>85</td>\n",
       "      <td>59</td>\n",
       "    </tr>\n",
       "  </tbody>\n",
       "</table>\n",
       "<p>5 rows × 31 columns</p>\n",
       "</div>"
      ],
      "text/plain": [
       "             County '\\% Reporting Fair/Poor Health'  \\\n",
       "0  Autauga, Alabama                              19   \n",
       "1  Baldwin, Alabama                              16   \n",
       "2  Barbour, Alabama                              26   \n",
       "3     Bibb, Alabama                              22   \n",
       "4   Blount, Alabama                              21   \n",
       "\n",
       "  'Physically Unhealthy Days Per Month' 'Mentally Unhealthy Days Per Month'  \\\n",
       "0                                   4.4                                 4.3   \n",
       "1                                   4.1                                 4.2   \n",
       "2                                   4.9                                 4.7   \n",
       "3                                   4.8                                 4.6   \n",
       "4                                   4.6                                 4.5   \n",
       "\n",
       "  '\\% Low birth weight births' '\\% Smokers'  '\\% Obese'  \\\n",
       "0                            9           19          31   \n",
       "1                            9           19          27   \n",
       "2                           12           21          41   \n",
       "3                           12           21          40   \n",
       "4                            7           19          32   \n",
       "\n",
       "   'Food Environment Index'  '\\% Physically Inactive'  \\\n",
       "0                       7.1                        29   \n",
       "1                       7.6                        25   \n",
       "2                       5.1                        33   \n",
       "3                       7.4                        33   \n",
       "4                       8.3                        29   \n",
       "\n",
       "  '\\% With Access To Exercise'               ...                 \\\n",
       "0                           71               ...                  \n",
       "1                           72               ...                  \n",
       "2                           45               ...                  \n",
       "3                           33               ...                  \n",
       "4                           26               ...                  \n",
       "\n",
       "  '\\% Children in Poverty' '80/20 Income Ratio' '\\% Single-Parent Households'  \\\n",
       "0                       18                  4.3                            27   \n",
       "1                       20                  4.5                            28   \n",
       "2                       38                  5.3                            54   \n",
       "3                       27                  4.3                            32   \n",
       "4                       24                  4.1                            28   \n",
       "\n",
       "  'Association Rate' 'Violent Crime Rate' 'Injury Death Rate'  \\\n",
       "0               13.8                  254                  76   \n",
       "1               12.0                  221                  70   \n",
       "2                8.1                  147                  64   \n",
       "3                9.8                  236                  75   \n",
       "4                8.5                  219                  89   \n",
       "\n",
       "  'Average Daily PM2.5' '\\% Severe Housing Problems' '\\% Drive Alone'  \\\n",
       "0                  12.9                           14               89   \n",
       "1                  13.1                           15               84   \n",
       "2                  12.6                           18               84   \n",
       "3                  12.9                           13               84   \n",
       "4                  12.7                           12               85   \n",
       "\n",
       "  '\\% Long Commute - Drives Alone'  \n",
       "0                               42  \n",
       "1                               37  \n",
       "2                               35  \n",
       "3                               46  \n",
       "4                               59  \n",
       "\n",
       "[5 rows x 31 columns]"
      ]
     },
     "execution_count": 15,
     "metadata": {},
     "output_type": "execute_result"
    }
   ],
   "source": [
    "Data2=pd.read_csv(\"2016CountyHealthIndicators.csv\")\n",
    "Data2.head()"
   ]
  },
  {
   "cell_type": "code",
   "execution_count": 16,
   "metadata": {
    "collapsed": true
   },
   "outputs": [],
   "source": [
    "Data3 = Data2.copy()"
   ]
  },
  {
   "cell_type": "code",
   "execution_count": 17,
   "metadata": {},
   "outputs": [
    {
     "name": "stderr",
     "output_type": "stream",
     "text": [
      "C:\\Users\\dapangxing\\Anaconda2\\lib\\site-packages\\ipykernel_launcher.py:1: FutureWarning: convert_objects is deprecated.  Use the data-type specific converters pd.to_datetime, pd.to_timedelta and pd.to_numeric.\n",
      "  \"\"\"Entry point for launching an IPython kernel.\n"
     ]
    }
   ],
   "source": [
    "Data2 = Data2.iloc[:,1:].convert_objects(convert_numeric=True).astype(float)"
   ]
  },
  {
   "cell_type": "code",
   "execution_count": 18,
   "metadata": {
    "collapsed": true
   },
   "outputs": [],
   "source": [
    "Data2 = Data2.dropna(axis=0)"
   ]
  },
  {
   "cell_type": "code",
   "execution_count": 19,
   "metadata": {
    "collapsed": true
   },
   "outputs": [],
   "source": [
    "Data3 = Data3.iloc[Data2.index]"
   ]
  },
  {
   "cell_type": "code",
   "execution_count": 20,
   "metadata": {
    "collapsed": true
   },
   "outputs": [],
   "source": [
    "Data2.reset_index(inplace=True, drop=True) \n",
    "Data3.reset_index(inplace=True, drop=True) "
   ]
  },
  {
   "cell_type": "code",
   "execution_count": 21,
   "metadata": {},
   "outputs": [
    {
     "data": {
      "text/html": [
       "<div>\n",
       "<table border=\"1\" class=\"dataframe\">\n",
       "  <thead>\n",
       "    <tr style=\"text-align: right;\">\n",
       "      <th></th>\n",
       "      <th>'\\% Reporting Fair/Poor Health'</th>\n",
       "      <th>'Physically Unhealthy Days Per Month'</th>\n",
       "      <th>'Mentally Unhealthy Days Per Month'</th>\n",
       "      <th>'\\% Low birth weight births'</th>\n",
       "      <th>'\\% Smokers'</th>\n",
       "      <th>'\\% Obese'</th>\n",
       "      <th>'Food Environment Index'</th>\n",
       "      <th>'\\% Physically Inactive'</th>\n",
       "      <th>'\\% With Access To Exercise'</th>\n",
       "      <th>'\\% Excessive Drinking'</th>\n",
       "      <th>...</th>\n",
       "      <th>'\\% Children in Poverty'</th>\n",
       "      <th>'80/20 Income Ratio'</th>\n",
       "      <th>'\\% Single-Parent Households'</th>\n",
       "      <th>'Association Rate'</th>\n",
       "      <th>'Violent Crime Rate'</th>\n",
       "      <th>'Injury Death Rate'</th>\n",
       "      <th>'Average Daily PM2.5'</th>\n",
       "      <th>'\\% Severe Housing Problems'</th>\n",
       "      <th>'\\% Drive Alone'</th>\n",
       "      <th>'\\% Long Commute - Drives Alone'</th>\n",
       "    </tr>\n",
       "  </thead>\n",
       "  <tbody>\n",
       "    <tr>\n",
       "      <th>0</th>\n",
       "      <td>19.0</td>\n",
       "      <td>4.4</td>\n",
       "      <td>4.3</td>\n",
       "      <td>9.0</td>\n",
       "      <td>19.0</td>\n",
       "      <td>31.0</td>\n",
       "      <td>7.1</td>\n",
       "      <td>29.0</td>\n",
       "      <td>71.0</td>\n",
       "      <td>15.0</td>\n",
       "      <td>...</td>\n",
       "      <td>18.0</td>\n",
       "      <td>4.3</td>\n",
       "      <td>27.0</td>\n",
       "      <td>13.8</td>\n",
       "      <td>254.0</td>\n",
       "      <td>76.0</td>\n",
       "      <td>12.9</td>\n",
       "      <td>14.0</td>\n",
       "      <td>89.0</td>\n",
       "      <td>42.0</td>\n",
       "    </tr>\n",
       "    <tr>\n",
       "      <th>1</th>\n",
       "      <td>16.0</td>\n",
       "      <td>4.1</td>\n",
       "      <td>4.2</td>\n",
       "      <td>9.0</td>\n",
       "      <td>19.0</td>\n",
       "      <td>27.0</td>\n",
       "      <td>7.6</td>\n",
       "      <td>25.0</td>\n",
       "      <td>72.0</td>\n",
       "      <td>15.0</td>\n",
       "      <td>...</td>\n",
       "      <td>20.0</td>\n",
       "      <td>4.5</td>\n",
       "      <td>28.0</td>\n",
       "      <td>12.0</td>\n",
       "      <td>221.0</td>\n",
       "      <td>70.0</td>\n",
       "      <td>13.1</td>\n",
       "      <td>15.0</td>\n",
       "      <td>84.0</td>\n",
       "      <td>37.0</td>\n",
       "    </tr>\n",
       "    <tr>\n",
       "      <th>2</th>\n",
       "      <td>26.0</td>\n",
       "      <td>4.9</td>\n",
       "      <td>4.7</td>\n",
       "      <td>12.0</td>\n",
       "      <td>21.0</td>\n",
       "      <td>41.0</td>\n",
       "      <td>5.1</td>\n",
       "      <td>33.0</td>\n",
       "      <td>45.0</td>\n",
       "      <td>12.0</td>\n",
       "      <td>...</td>\n",
       "      <td>38.0</td>\n",
       "      <td>5.3</td>\n",
       "      <td>54.0</td>\n",
       "      <td>8.1</td>\n",
       "      <td>147.0</td>\n",
       "      <td>64.0</td>\n",
       "      <td>12.6</td>\n",
       "      <td>18.0</td>\n",
       "      <td>84.0</td>\n",
       "      <td>35.0</td>\n",
       "    </tr>\n",
       "    <tr>\n",
       "      <th>3</th>\n",
       "      <td>22.0</td>\n",
       "      <td>4.8</td>\n",
       "      <td>4.6</td>\n",
       "      <td>12.0</td>\n",
       "      <td>21.0</td>\n",
       "      <td>40.0</td>\n",
       "      <td>7.4</td>\n",
       "      <td>33.0</td>\n",
       "      <td>33.0</td>\n",
       "      <td>14.0</td>\n",
       "      <td>...</td>\n",
       "      <td>27.0</td>\n",
       "      <td>4.3</td>\n",
       "      <td>32.0</td>\n",
       "      <td>9.8</td>\n",
       "      <td>236.0</td>\n",
       "      <td>75.0</td>\n",
       "      <td>12.9</td>\n",
       "      <td>13.0</td>\n",
       "      <td>84.0</td>\n",
       "      <td>46.0</td>\n",
       "    </tr>\n",
       "    <tr>\n",
       "      <th>4</th>\n",
       "      <td>21.0</td>\n",
       "      <td>4.6</td>\n",
       "      <td>4.5</td>\n",
       "      <td>7.0</td>\n",
       "      <td>19.0</td>\n",
       "      <td>32.0</td>\n",
       "      <td>8.3</td>\n",
       "      <td>29.0</td>\n",
       "      <td>26.0</td>\n",
       "      <td>14.0</td>\n",
       "      <td>...</td>\n",
       "      <td>24.0</td>\n",
       "      <td>4.1</td>\n",
       "      <td>28.0</td>\n",
       "      <td>8.5</td>\n",
       "      <td>219.0</td>\n",
       "      <td>89.0</td>\n",
       "      <td>12.7</td>\n",
       "      <td>12.0</td>\n",
       "      <td>85.0</td>\n",
       "      <td>59.0</td>\n",
       "    </tr>\n",
       "  </tbody>\n",
       "</table>\n",
       "<p>5 rows × 30 columns</p>\n",
       "</div>"
      ],
      "text/plain": [
       "   '\\% Reporting Fair/Poor Health'  'Physically Unhealthy Days Per Month'  \\\n",
       "0                             19.0                                    4.4   \n",
       "1                             16.0                                    4.1   \n",
       "2                             26.0                                    4.9   \n",
       "3                             22.0                                    4.8   \n",
       "4                             21.0                                    4.6   \n",
       "\n",
       "   'Mentally Unhealthy Days Per Month'  '\\% Low birth weight births'  \\\n",
       "0                                  4.3                           9.0   \n",
       "1                                  4.2                           9.0   \n",
       "2                                  4.7                          12.0   \n",
       "3                                  4.6                          12.0   \n",
       "4                                  4.5                           7.0   \n",
       "\n",
       "   '\\% Smokers'  '\\% Obese'  'Food Environment Index'  \\\n",
       "0          19.0        31.0                       7.1   \n",
       "1          19.0        27.0                       7.6   \n",
       "2          21.0        41.0                       5.1   \n",
       "3          21.0        40.0                       7.4   \n",
       "4          19.0        32.0                       8.3   \n",
       "\n",
       "   '\\% Physically Inactive'  '\\% With Access To Exercise'  \\\n",
       "0                      29.0                          71.0   \n",
       "1                      25.0                          72.0   \n",
       "2                      33.0                          45.0   \n",
       "3                      33.0                          33.0   \n",
       "4                      29.0                          26.0   \n",
       "\n",
       "   '\\% Excessive Drinking'                ...                 \\\n",
       "0                     15.0                ...                  \n",
       "1                     15.0                ...                  \n",
       "2                     12.0                ...                  \n",
       "3                     14.0                ...                  \n",
       "4                     14.0                ...                  \n",
       "\n",
       "   '\\% Children in Poverty'  '80/20 Income Ratio'  \\\n",
       "0                      18.0                   4.3   \n",
       "1                      20.0                   4.5   \n",
       "2                      38.0                   5.3   \n",
       "3                      27.0                   4.3   \n",
       "4                      24.0                   4.1   \n",
       "\n",
       "   '\\% Single-Parent Households'  'Association Rate'  'Violent Crime Rate'  \\\n",
       "0                           27.0                13.8                 254.0   \n",
       "1                           28.0                12.0                 221.0   \n",
       "2                           54.0                 8.1                 147.0   \n",
       "3                           32.0                 9.8                 236.0   \n",
       "4                           28.0                 8.5                 219.0   \n",
       "\n",
       "   'Injury Death Rate'  'Average Daily PM2.5'  '\\% Severe Housing Problems'  \\\n",
       "0                 76.0                   12.9                          14.0   \n",
       "1                 70.0                   13.1                          15.0   \n",
       "2                 64.0                   12.6                          18.0   \n",
       "3                 75.0                   12.9                          13.0   \n",
       "4                 89.0                   12.7                          12.0   \n",
       "\n",
       "   '\\% Drive Alone'  '\\% Long Commute - Drives Alone'  \n",
       "0              89.0                              42.0  \n",
       "1              84.0                              37.0  \n",
       "2              84.0                              35.0  \n",
       "3              84.0                              46.0  \n",
       "4              85.0                              59.0  \n",
       "\n",
       "[5 rows x 30 columns]"
      ]
     },
     "execution_count": 21,
     "metadata": {},
     "output_type": "execute_result"
    }
   ],
   "source": [
    "Data2.head()"
   ]
  },
  {
   "cell_type": "code",
   "execution_count": 22,
   "metadata": {
    "collapsed": true
   },
   "outputs": [],
   "source": [
    "df = Data2[[\"'\\% Smokers'\",\"'\\% Obese'\",\"'Violent Crime Rate'\",\"'80/20 Income Ratio'\",\"'\\% Children in Poverty'\",\"'Average Daily PM2.5'\"]]"
   ]
  },
  {
   "cell_type": "code",
   "execution_count": 23,
   "metadata": {},
   "outputs": [
    {
     "name": "stderr",
     "output_type": "stream",
     "text": [
      "C:\\Users\\dapangxing\\Anaconda2\\lib\\site-packages\\ipykernel_launcher.py:1: SettingWithCopyWarning: \n",
      "A value is trying to be set on a copy of a slice from a DataFrame.\n",
      "Try using .loc[row_indexer,col_indexer] = value instead\n",
      "\n",
      "See the caveats in the documentation: http://pandas.pydata.org/pandas-docs/stable/indexing.html#indexing-view-versus-copy\n",
      "  \"\"\"Entry point for launching an IPython kernel.\n",
      "C:\\Users\\dapangxing\\Anaconda2\\lib\\site-packages\\ipykernel_launcher.py:2: SettingWithCopyWarning: \n",
      "A value is trying to be set on a copy of a slice from a DataFrame.\n",
      "Try using .loc[row_indexer,col_indexer] = value instead\n",
      "\n",
      "See the caveats in the documentation: http://pandas.pydata.org/pandas-docs/stable/indexing.html#indexing-view-versus-copy\n",
      "  \n",
      "C:\\Users\\dapangxing\\Anaconda2\\lib\\site-packages\\ipykernel_launcher.py:3: SettingWithCopyWarning: \n",
      "A value is trying to be set on a copy of a slice from a DataFrame.\n",
      "Try using .loc[row_indexer,col_indexer] = value instead\n",
      "\n",
      "See the caveats in the documentation: http://pandas.pydata.org/pandas-docs/stable/indexing.html#indexing-view-versus-copy\n",
      "  This is separate from the ipykernel package so we can avoid doing imports until\n",
      "C:\\Users\\dapangxing\\Anaconda2\\lib\\site-packages\\ipykernel_launcher.py:4: SettingWithCopyWarning: \n",
      "A value is trying to be set on a copy of a slice from a DataFrame.\n",
      "Try using .loc[row_indexer,col_indexer] = value instead\n",
      "\n",
      "See the caveats in the documentation: http://pandas.pydata.org/pandas-docs/stable/indexing.html#indexing-view-versus-copy\n",
      "  after removing the cwd from sys.path.\n",
      "C:\\Users\\dapangxing\\Anaconda2\\lib\\site-packages\\ipykernel_launcher.py:5: SettingWithCopyWarning: \n",
      "A value is trying to be set on a copy of a slice from a DataFrame.\n",
      "Try using .loc[row_indexer,col_indexer] = value instead\n",
      "\n",
      "See the caveats in the documentation: http://pandas.pydata.org/pandas-docs/stable/indexing.html#indexing-view-versus-copy\n",
      "  \"\"\"\n",
      "C:\\Users\\dapangxing\\Anaconda2\\lib\\site-packages\\ipykernel_launcher.py:6: SettingWithCopyWarning: \n",
      "A value is trying to be set on a copy of a slice from a DataFrame.\n",
      "Try using .loc[row_indexer,col_indexer] = value instead\n",
      "\n",
      "See the caveats in the documentation: http://pandas.pydata.org/pandas-docs/stable/indexing.html#indexing-view-versus-copy\n",
      "  \n"
     ]
    }
   ],
   "source": [
    "df['Smokers'] = pd.cut(df[\"'\\% Smokers'\"], 5, labels=[0, 1, 2, 3, 4]).cat.codes\n",
    "df['Obese'] = pd.cut(df[\"'\\% Obese'\"], 5, labels=[0, 1, 2, 3, 4]).cat.codes\n",
    "df['Violent'] = pd.cut(df[\"'Violent Crime Rate'\"], 5, labels=[0, 1, 2, 3, 4]).cat.codes\n",
    "df['Income'] = pd.cut(df[\"'80/20 Income Ratio'\"], 5, labels=[0, 1, 2, 3, 4]).cat.codes\n",
    "df['Poverty'] = pd.cut(df[\"'\\% Children in Poverty'\"], 5, labels=[0, 1, 2, 3, 4]).cat.codes\n",
    "df['PM'] = pd.cut(df[\"'Average Daily PM2.5'\"], 5, labels=[0, 1, 2, 3, 4]).cat.codes"
   ]
  },
  {
   "cell_type": "code",
   "execution_count": 24,
   "metadata": {},
   "outputs": [
    {
     "data": {
      "text/html": [
       "<div>\n",
       "<table border=\"1\" class=\"dataframe\">\n",
       "  <thead>\n",
       "    <tr style=\"text-align: right;\">\n",
       "      <th></th>\n",
       "      <th>'\\% Smokers'</th>\n",
       "      <th>'\\% Obese'</th>\n",
       "      <th>'Violent Crime Rate'</th>\n",
       "      <th>'80/20 Income Ratio'</th>\n",
       "      <th>'\\% Children in Poverty'</th>\n",
       "      <th>'Average Daily PM2.5'</th>\n",
       "      <th>Smokers</th>\n",
       "      <th>Obese</th>\n",
       "      <th>Violent</th>\n",
       "      <th>Income</th>\n",
       "      <th>Poverty</th>\n",
       "      <th>PM</th>\n",
       "    </tr>\n",
       "  </thead>\n",
       "  <tbody>\n",
       "    <tr>\n",
       "      <th>0</th>\n",
       "      <td>19.0</td>\n",
       "      <td>31.0</td>\n",
       "      <td>254.0</td>\n",
       "      <td>4.3</td>\n",
       "      <td>18.0</td>\n",
       "      <td>12.9</td>\n",
       "      <td>1</td>\n",
       "      <td>2</td>\n",
       "      <td>0</td>\n",
       "      <td>1</td>\n",
       "      <td>1</td>\n",
       "      <td>3</td>\n",
       "    </tr>\n",
       "    <tr>\n",
       "      <th>1</th>\n",
       "      <td>19.0</td>\n",
       "      <td>27.0</td>\n",
       "      <td>221.0</td>\n",
       "      <td>4.5</td>\n",
       "      <td>20.0</td>\n",
       "      <td>13.1</td>\n",
       "      <td>1</td>\n",
       "      <td>2</td>\n",
       "      <td>0</td>\n",
       "      <td>1</td>\n",
       "      <td>1</td>\n",
       "      <td>3</td>\n",
       "    </tr>\n",
       "    <tr>\n",
       "      <th>2</th>\n",
       "      <td>21.0</td>\n",
       "      <td>41.0</td>\n",
       "      <td>147.0</td>\n",
       "      <td>5.3</td>\n",
       "      <td>38.0</td>\n",
       "      <td>12.6</td>\n",
       "      <td>2</td>\n",
       "      <td>4</td>\n",
       "      <td>0</td>\n",
       "      <td>2</td>\n",
       "      <td>3</td>\n",
       "      <td>3</td>\n",
       "    </tr>\n",
       "    <tr>\n",
       "      <th>3</th>\n",
       "      <td>21.0</td>\n",
       "      <td>40.0</td>\n",
       "      <td>236.0</td>\n",
       "      <td>4.3</td>\n",
       "      <td>27.0</td>\n",
       "      <td>12.9</td>\n",
       "      <td>2</td>\n",
       "      <td>4</td>\n",
       "      <td>0</td>\n",
       "      <td>1</td>\n",
       "      <td>2</td>\n",
       "      <td>3</td>\n",
       "    </tr>\n",
       "    <tr>\n",
       "      <th>4</th>\n",
       "      <td>19.0</td>\n",
       "      <td>32.0</td>\n",
       "      <td>219.0</td>\n",
       "      <td>4.1</td>\n",
       "      <td>24.0</td>\n",
       "      <td>12.7</td>\n",
       "      <td>1</td>\n",
       "      <td>2</td>\n",
       "      <td>0</td>\n",
       "      <td>1</td>\n",
       "      <td>2</td>\n",
       "      <td>3</td>\n",
       "    </tr>\n",
       "  </tbody>\n",
       "</table>\n",
       "</div>"
      ],
      "text/plain": [
       "   '\\% Smokers'  '\\% Obese'  'Violent Crime Rate'  '80/20 Income Ratio'  \\\n",
       "0          19.0        31.0                 254.0                   4.3   \n",
       "1          19.0        27.0                 221.0                   4.5   \n",
       "2          21.0        41.0                 147.0                   5.3   \n",
       "3          21.0        40.0                 236.0                   4.3   \n",
       "4          19.0        32.0                 219.0                   4.1   \n",
       "\n",
       "   '\\% Children in Poverty'  'Average Daily PM2.5'  Smokers  Obese  Violent  \\\n",
       "0                      18.0                   12.9        1      2        0   \n",
       "1                      20.0                   13.1        1      2        0   \n",
       "2                      38.0                   12.6        2      4        0   \n",
       "3                      27.0                   12.9        2      4        0   \n",
       "4                      24.0                   12.7        1      2        0   \n",
       "\n",
       "   Income  Poverty  PM  \n",
       "0       1        1   3  \n",
       "1       1        1   3  \n",
       "2       2        3   3  \n",
       "3       1        2   3  \n",
       "4       1        2   3  "
      ]
     },
     "execution_count": 24,
     "metadata": {},
     "output_type": "execute_result"
    }
   ],
   "source": [
    "df.head()"
   ]
  },
  {
   "cell_type": "code",
   "execution_count": 25,
   "metadata": {
    "collapsed": true
   },
   "outputs": [],
   "source": [
    "data = df.loc[:,'Smokers':'PM']"
   ]
  },
  {
   "cell_type": "code",
   "execution_count": 26,
   "metadata": {},
   "outputs": [
    {
     "name": "stdout",
     "output_type": "stream",
     "text": [
      "[('Violent', 'Poverty'), ('Poverty', 'Smokers'), ('Poverty', 'Income'), ('Smokers', 'Obese'), ('Smokers', 'PM')]\n"
     ]
    }
   ],
   "source": [
    "from pgmpy.estimators import HillClimbSearch\n",
    "from pgmpy.estimators import BicScore\n",
    "from pgmpy.models import BayesianModel\n",
    "from pgmpy.estimators import MaximumLikelihoodEstimator\n",
    "hc = HillClimbSearch(data, scoring_method=BicScore(data))\n",
    "best_model = hc.estimate()\n",
    "print(best_model.edges())\n",
    "model = BayesianModel(best_model.edges())\n",
    "model.fit(data, estimator=MaximumLikelihoodEstimator)"
   ]
  },
  {
   "cell_type": "code",
   "execution_count": 27,
   "metadata": {
    "collapsed": true
   },
   "outputs": [],
   "source": [
    "# Log-likelihood of data record x given model\n",
    "def LL(x,model,verbose=False):\n",
    "    loglike = 0\n",
    "    for cpd in model.get_cpds():\n",
    "        temp_cpd = cpd.copy()\n",
    "        thevariable = temp_cpd.variable\n",
    "        theparents = model.predecessors(thevariable)\n",
    "        for parent in theparents:\n",
    "            temp_cpd.reduce([(parent, x[parent])])\n",
    "        theprob = temp_cpd.get_values()[x[thevariable],0]\n",
    "        if verbose:\n",
    "            print thevariable,theparents,theprob\n",
    "        loglike += np.log(theprob)\n",
    "    return loglike"
   ]
  },
  {
   "cell_type": "code",
   "execution_count": 28,
   "metadata": {
    "collapsed": true
   },
   "outputs": [],
   "source": [
    "exmp=data.apply(lambda x: LL(x,model),axis=1)"
   ]
  },
  {
   "cell_type": "code",
   "execution_count": 29,
   "metadata": {},
   "outputs": [
    {
     "data": {
      "text/html": [
       "<div>\n",
       "<table border=\"1\" class=\"dataframe\">\n",
       "  <thead>\n",
       "    <tr style=\"text-align: right;\">\n",
       "      <th></th>\n",
       "      <th>County</th>\n",
       "      <th>log-likelihood</th>\n",
       "    </tr>\n",
       "  </thead>\n",
       "  <tbody>\n",
       "    <tr>\n",
       "      <th>1444</th>\n",
       "      <td>New York, New York</td>\n",
       "      <td>-16.608495</td>\n",
       "    </tr>\n",
       "    <tr>\n",
       "      <th>182</th>\n",
       "      <td>San Francisco, California</td>\n",
       "      <td>-14.827149</td>\n",
       "    </tr>\n",
       "    <tr>\n",
       "      <th>1577</th>\n",
       "      <td>Rolette, North Dakota</td>\n",
       "      <td>-14.686742</td>\n",
       "    </tr>\n",
       "    <tr>\n",
       "      <th>1007</th>\n",
       "      <td>Suffolk, Massachusetts</td>\n",
       "      <td>-14.457849</td>\n",
       "    </tr>\n",
       "    <tr>\n",
       "      <th>248</th>\n",
       "      <td>District of Columbia, District of Columbia</td>\n",
       "      <td>-13.671439</td>\n",
       "    </tr>\n",
       "  </tbody>\n",
       "</table>\n",
       "</div>"
      ],
      "text/plain": [
       "                                          County  log-likelihood\n",
       "1444                          New York, New York      -16.608495\n",
       "182                    San Francisco, California      -14.827149\n",
       "1577                       Rolette, North Dakota      -14.686742\n",
       "1007                      Suffolk, Massachusetts      -14.457849\n",
       "248   District of Columbia, District of Columbia      -13.671439"
      ]
     },
     "execution_count": 29,
     "metadata": {},
     "output_type": "execute_result"
    }
   ],
   "source": [
    "D1 = pd.DataFrame({'County':Data3.iloc[exmp.sort_values().head(5).index].County,'log-likelihood':exmp.sort_values().head(5).values})\n",
    "D1"
   ]
  },
  {
   "cell_type": "markdown",
   "metadata": {},
   "source": [
    "### Part 2"
   ]
  },
  {
   "cell_type": "code",
   "execution_count": 30,
   "metadata": {},
   "outputs": [
    {
     "data": {
      "text/html": [
       "<div>\n",
       "<table border=\"1\" class=\"dataframe\">\n",
       "  <thead>\n",
       "    <tr style=\"text-align: right;\">\n",
       "      <th></th>\n",
       "      <th>0</th>\n",
       "      <th>1</th>\n",
       "      <th>2</th>\n",
       "    </tr>\n",
       "  </thead>\n",
       "  <tbody>\n",
       "    <tr>\n",
       "      <th>0</th>\n",
       "      <td>215.546368</td>\n",
       "      <td>554.609617</td>\n",
       "      <td>101.895485</td>\n",
       "    </tr>\n",
       "    <tr>\n",
       "      <th>1</th>\n",
       "      <td>108.370262</td>\n",
       "      <td>655.932344</td>\n",
       "      <td>186.335226</td>\n",
       "    </tr>\n",
       "    <tr>\n",
       "      <th>2</th>\n",
       "      <td>410.503731</td>\n",
       "      <td>530.643663</td>\n",
       "      <td>282.291939</td>\n",
       "    </tr>\n",
       "    <tr>\n",
       "      <th>3</th>\n",
       "      <td>168.209200</td>\n",
       "      <td>602.378878</td>\n",
       "      <td>141.457457</td>\n",
       "    </tr>\n",
       "    <tr>\n",
       "      <th>4</th>\n",
       "      <td>105.075152</td>\n",
       "      <td>777.335076</td>\n",
       "      <td>315.009861</td>\n",
       "    </tr>\n",
       "  </tbody>\n",
       "</table>\n",
       "</div>"
      ],
      "text/plain": [
       "            0           1           2\n",
       "0  215.546368  554.609617  101.895485\n",
       "1  108.370262  655.932344  186.335226\n",
       "2  410.503731  530.643663  282.291939\n",
       "3  168.209200  602.378878  141.457457\n",
       "4  105.075152  777.335076  315.009861"
      ]
     },
     "execution_count": 30,
     "metadata": {},
     "output_type": "execute_result"
    }
   ],
   "source": [
    "X = Data2\n",
    "from sklearn.cluster import KMeans\n",
    "KM=KMeans(n_clusters=3,random_state=999)\n",
    "scor=KM.fit_predict(X)\n",
    "\n",
    "# distance to each cluster center\n",
    "res=pd.DataFrame(KM.transform(X))\n",
    "res.head()"
   ]
  },
  {
   "cell_type": "code",
   "execution_count": 31,
   "metadata": {},
   "outputs": [
    {
     "data": {
      "text/html": [
       "<div>\n",
       "<table border=\"1\" class=\"dataframe\">\n",
       "  <thead>\n",
       "    <tr style=\"text-align: right;\">\n",
       "      <th></th>\n",
       "      <th>0</th>\n",
       "      <th>1</th>\n",
       "      <th>2</th>\n",
       "      <th>cluster</th>\n",
       "      <th>score</th>\n",
       "    </tr>\n",
       "  </thead>\n",
       "  <tbody>\n",
       "    <tr>\n",
       "      <th>1890</th>\n",
       "      <td>2443.716031</td>\n",
       "      <td>1970.018443</td>\n",
       "      <td>2251.260167</td>\n",
       "      <td>1</td>\n",
       "      <td>1970.018443</td>\n",
       "    </tr>\n",
       "    <tr>\n",
       "      <th>1294</th>\n",
       "      <td>2036.147297</td>\n",
       "      <td>1332.735955</td>\n",
       "      <td>1759.249198</td>\n",
       "      <td>1</td>\n",
       "      <td>1332.735955</td>\n",
       "    </tr>\n",
       "    <tr>\n",
       "      <th>96</th>\n",
       "      <td>1917.732820</td>\n",
       "      <td>1208.900834</td>\n",
       "      <td>1639.063836</td>\n",
       "      <td>1</td>\n",
       "      <td>1208.900834</td>\n",
       "    </tr>\n",
       "    <tr>\n",
       "      <th>2304</th>\n",
       "      <td>1644.876605</td>\n",
       "      <td>1017.910163</td>\n",
       "      <td>1394.632068</td>\n",
       "      <td>1</td>\n",
       "      <td>1017.910163</td>\n",
       "    </tr>\n",
       "    <tr>\n",
       "      <th>995</th>\n",
       "      <td>1651.954082</td>\n",
       "      <td>918.374430</td>\n",
       "      <td>1366.737248</td>\n",
       "      <td>1</td>\n",
       "      <td>918.374430</td>\n",
       "    </tr>\n",
       "  </tbody>\n",
       "</table>\n",
       "</div>"
      ],
      "text/plain": [
       "                0            1            2  cluster        score\n",
       "1890  2443.716031  1970.018443  2251.260167        1  1970.018443\n",
       "1294  2036.147297  1332.735955  1759.249198        1  1332.735955\n",
       "96    1917.732820  1208.900834  1639.063836        1  1208.900834\n",
       "2304  1644.876605  1017.910163  1394.632068        1  1017.910163\n",
       "995   1651.954082   918.374430  1366.737248        1   918.374430"
      ]
     },
     "execution_count": 31,
     "metadata": {},
     "output_type": "execute_result"
    }
   ],
   "source": [
    "# add cluster and distance information for each data record\n",
    "res=pd.DataFrame(KM.transform(X))\n",
    "res=pd.concat((res,pd.DataFrame(KM.fit_predict(X))),axis=1)\n",
    "res.columns=list(range(3))+[\"cluster\"]\n",
    "res.loc[:,\"score\"]=res.apply(lambda x: x[int(x[\"cluster\"])],axis=1)\n",
    "\n",
    "# find data records farthest from cluster centers\n",
    "res.sort_values(\"score\",ascending=False)[:5]"
   ]
  },
  {
   "cell_type": "code",
   "execution_count": 32,
   "metadata": {},
   "outputs": [
    {
     "data": {
      "text/html": [
       "<div>\n",
       "<table border=\"1\" class=\"dataframe\">\n",
       "  <thead>\n",
       "    <tr style=\"text-align: right;\">\n",
       "      <th></th>\n",
       "      <th>County</th>\n",
       "      <th>km score</th>\n",
       "    </tr>\n",
       "  </thead>\n",
       "  <tbody>\n",
       "    <tr>\n",
       "      <th>1890</th>\n",
       "      <td>Shannon, South Dakota</td>\n",
       "      <td>1970.018443</td>\n",
       "    </tr>\n",
       "    <tr>\n",
       "      <th>1294</th>\n",
       "      <td>St. Louis City, Missouri</td>\n",
       "      <td>1332.735955</td>\n",
       "    </tr>\n",
       "    <tr>\n",
       "      <th>96</th>\n",
       "      <td>Crittenden, Arkansas</td>\n",
       "      <td>1208.900834</td>\n",
       "    </tr>\n",
       "    <tr>\n",
       "      <th>2304</th>\n",
       "      <td>Petersburg City, Virginia</td>\n",
       "      <td>1017.910163</td>\n",
       "    </tr>\n",
       "    <tr>\n",
       "      <th>995</th>\n",
       "      <td>Baltimore City, Maryland</td>\n",
       "      <td>918.374430</td>\n",
       "    </tr>\n",
       "  </tbody>\n",
       "</table>\n",
       "</div>"
      ],
      "text/plain": [
       "                         County     km score\n",
       "1890      Shannon, South Dakota  1970.018443\n",
       "1294   St. Louis City, Missouri  1332.735955\n",
       "96         Crittenden, Arkansas  1208.900834\n",
       "2304  Petersburg City, Virginia  1017.910163\n",
       "995    Baltimore City, Maryland   918.374430"
      ]
     },
     "execution_count": 32,
     "metadata": {},
     "output_type": "execute_result"
    }
   ],
   "source": [
    "D2 = pd.DataFrame({'County':Data3.iloc[res.sort_values(\"score\",ascending=False)[:5].index].County,'km score':res.sort_values(\"score\",ascending=False)[:5].score})\n",
    "D2"
   ]
  },
  {
   "cell_type": "code",
   "execution_count": 33,
   "metadata": {},
   "outputs": [
    {
     "data": {
      "text/plain": [
       "GaussianMixture(covariance_type='full', init_params='kmeans', max_iter=100,\n",
       "        means_init=None, n_components=3, n_init=1, precisions_init=None,\n",
       "        random_state=999, reg_covar=1e-06, tol=0.001, verbose=0,\n",
       "        verbose_interval=10, warm_start=False, weights_init=None)"
      ]
     },
     "execution_count": 33,
     "metadata": {},
     "output_type": "execute_result"
    }
   ],
   "source": [
    "from sklearn.mixture import GaussianMixture\n",
    "GM=GaussianMixture(n_components=3,random_state=999)\n",
    "GM.fit(X)"
   ]
  },
  {
   "cell_type": "code",
   "execution_count": 34,
   "metadata": {},
   "outputs": [
    {
     "data": {
      "text/html": [
       "<div>\n",
       "<table border=\"1\" class=\"dataframe\">\n",
       "  <thead>\n",
       "    <tr style=\"text-align: right;\">\n",
       "      <th></th>\n",
       "      <th>County</th>\n",
       "      <th>GM score</th>\n",
       "    </tr>\n",
       "  </thead>\n",
       "  <tbody>\n",
       "    <tr>\n",
       "      <th>1890</th>\n",
       "      <td>Shannon, South Dakota</td>\n",
       "      <td>-197.420106</td>\n",
       "    </tr>\n",
       "    <tr>\n",
       "      <th>66</th>\n",
       "      <td>Apache, Arizona</td>\n",
       "      <td>-133.042814</td>\n",
       "    </tr>\n",
       "    <tr>\n",
       "      <th>1444</th>\n",
       "      <td>New York, New York</td>\n",
       "      <td>-131.452092</td>\n",
       "    </tr>\n",
       "    <tr>\n",
       "      <th>2158</th>\n",
       "      <td>Willacy, Texas</td>\n",
       "      <td>-129.450559</td>\n",
       "    </tr>\n",
       "    <tr>\n",
       "      <th>1577</th>\n",
       "      <td>Rolette, North Dakota</td>\n",
       "      <td>-126.696033</td>\n",
       "    </tr>\n",
       "  </tbody>\n",
       "</table>\n",
       "</div>"
      ],
      "text/plain": [
       "                     County    GM score\n",
       "1890  Shannon, South Dakota -197.420106\n",
       "66          Apache, Arizona -133.042814\n",
       "1444     New York, New York -131.452092\n",
       "2158         Willacy, Texas -129.450559\n",
       "1577  Rolette, North Dakota -126.696033"
      ]
     },
     "execution_count": 34,
     "metadata": {},
     "output_type": "execute_result"
    }
   ],
   "source": [
    "D3 = pd.DataFrame({'County':Data3.iloc[pd.DataFrame(GM.score_samples(X)).sort_values(0)[:5].index].County,'GM score':pd.DataFrame(GM.score_samples(X)).sort_values(0)[:5][0].values})\n",
    "D3"
   ]
  },
  {
   "cell_type": "markdown",
   "metadata": {},
   "source": [
    "### Part 3"
   ]
  },
  {
   "cell_type": "code",
   "execution_count": 35,
   "metadata": {
    "collapsed": true
   },
   "outputs": [],
   "source": [
    "from sklearn.ensemble import IsolationForest"
   ]
  },
  {
   "cell_type": "code",
   "execution_count": 36,
   "metadata": {
    "collapsed": true
   },
   "outputs": [],
   "source": [
    "# fit the model\n",
    "clf = IsolationForest(max_samples=100, random_state=999)\n",
    "clf.fit(X)\n",
    "y_pred = clf.predict(X)"
   ]
  },
  {
   "cell_type": "code",
   "execution_count": 37,
   "metadata": {},
   "outputs": [
    {
     "data": {
      "text/html": [
       "<div>\n",
       "<table border=\"1\" class=\"dataframe\">\n",
       "  <thead>\n",
       "    <tr style=\"text-align: right;\">\n",
       "      <th></th>\n",
       "      <th>County</th>\n",
       "      <th>IF score</th>\n",
       "    </tr>\n",
       "  </thead>\n",
       "  <tbody>\n",
       "    <tr>\n",
       "      <th>1890</th>\n",
       "      <td>Shannon, South Dakota</td>\n",
       "      <td>-0.137898</td>\n",
       "    </tr>\n",
       "    <tr>\n",
       "      <th>66</th>\n",
       "      <td>Apache, Arizona</td>\n",
       "      <td>-0.092279</td>\n",
       "    </tr>\n",
       "    <tr>\n",
       "      <th>1296</th>\n",
       "      <td>Big Horn, Montana</td>\n",
       "      <td>-0.085660</td>\n",
       "    </tr>\n",
       "    <tr>\n",
       "      <th>1577</th>\n",
       "      <td>Rolette, North Dakota</td>\n",
       "      <td>-0.080971</td>\n",
       "    </tr>\n",
       "    <tr>\n",
       "      <th>913</th>\n",
       "      <td>East Carroll, Louisiana</td>\n",
       "      <td>-0.075939</td>\n",
       "    </tr>\n",
       "  </tbody>\n",
       "</table>\n",
       "</div>"
      ],
      "text/plain": [
       "                       County  IF score\n",
       "1890    Shannon, South Dakota -0.137898\n",
       "66            Apache, Arizona -0.092279\n",
       "1296        Big Horn, Montana -0.085660\n",
       "1577    Rolette, North Dakota -0.080971\n",
       "913   East Carroll, Louisiana -0.075939"
      ]
     },
     "execution_count": 37,
     "metadata": {},
     "output_type": "execute_result"
    }
   ],
   "source": [
    "D4 = pd.DataFrame({'County':Data3.iloc[pd.DataFrame(clf.decision_function(X)).sort_values(0)[:5].index].County,'IF score':pd.DataFrame(clf.decision_function(X)).sort_values(0)[:5][0].values})\n",
    "D4"
   ]
  },
  {
   "cell_type": "markdown",
   "metadata": {},
   "source": [
    "### Part 4"
   ]
  },
  {
   "cell_type": "code",
   "execution_count": 38,
   "metadata": {
    "collapsed": true
   },
   "outputs": [],
   "source": [
    "df_ = D2.merge(D3, on=\"County\", how='outer')\n",
    "df_ = df_.merge(D4, on=\"County\", how='outer')"
   ]
  },
  {
   "cell_type": "code",
   "execution_count": 39,
   "metadata": {},
   "outputs": [
    {
     "data": {
      "text/html": [
       "<div>\n",
       "<table border=\"1\" class=\"dataframe\">\n",
       "  <thead>\n",
       "    <tr style=\"text-align: right;\">\n",
       "      <th></th>\n",
       "      <th>County</th>\n",
       "      <th>km score</th>\n",
       "      <th>GM score</th>\n",
       "      <th>IF score</th>\n",
       "    </tr>\n",
       "  </thead>\n",
       "  <tbody>\n",
       "    <tr>\n",
       "      <th>0</th>\n",
       "      <td>Shannon, South Dakota</td>\n",
       "      <td>1970.018443</td>\n",
       "      <td>-197.420106</td>\n",
       "      <td>-0.137898</td>\n",
       "    </tr>\n",
       "    <tr>\n",
       "      <th>1</th>\n",
       "      <td>St. Louis City, Missouri</td>\n",
       "      <td>1332.735955</td>\n",
       "      <td>NaN</td>\n",
       "      <td>NaN</td>\n",
       "    </tr>\n",
       "    <tr>\n",
       "      <th>2</th>\n",
       "      <td>Crittenden, Arkansas</td>\n",
       "      <td>1208.900834</td>\n",
       "      <td>NaN</td>\n",
       "      <td>NaN</td>\n",
       "    </tr>\n",
       "    <tr>\n",
       "      <th>3</th>\n",
       "      <td>Petersburg City, Virginia</td>\n",
       "      <td>1017.910163</td>\n",
       "      <td>NaN</td>\n",
       "      <td>NaN</td>\n",
       "    </tr>\n",
       "    <tr>\n",
       "      <th>4</th>\n",
       "      <td>Baltimore City, Maryland</td>\n",
       "      <td>918.374430</td>\n",
       "      <td>NaN</td>\n",
       "      <td>NaN</td>\n",
       "    </tr>\n",
       "    <tr>\n",
       "      <th>5</th>\n",
       "      <td>Apache, Arizona</td>\n",
       "      <td>NaN</td>\n",
       "      <td>-133.042814</td>\n",
       "      <td>-0.092279</td>\n",
       "    </tr>\n",
       "    <tr>\n",
       "      <th>6</th>\n",
       "      <td>New York, New York</td>\n",
       "      <td>NaN</td>\n",
       "      <td>-131.452092</td>\n",
       "      <td>NaN</td>\n",
       "    </tr>\n",
       "    <tr>\n",
       "      <th>7</th>\n",
       "      <td>Willacy, Texas</td>\n",
       "      <td>NaN</td>\n",
       "      <td>-129.450559</td>\n",
       "      <td>NaN</td>\n",
       "    </tr>\n",
       "    <tr>\n",
       "      <th>8</th>\n",
       "      <td>Rolette, North Dakota</td>\n",
       "      <td>NaN</td>\n",
       "      <td>-126.696033</td>\n",
       "      <td>-0.080971</td>\n",
       "    </tr>\n",
       "    <tr>\n",
       "      <th>9</th>\n",
       "      <td>Big Horn, Montana</td>\n",
       "      <td>NaN</td>\n",
       "      <td>NaN</td>\n",
       "      <td>-0.085660</td>\n",
       "    </tr>\n",
       "    <tr>\n",
       "      <th>10</th>\n",
       "      <td>East Carroll, Louisiana</td>\n",
       "      <td>NaN</td>\n",
       "      <td>NaN</td>\n",
       "      <td>-0.075939</td>\n",
       "    </tr>\n",
       "  </tbody>\n",
       "</table>\n",
       "</div>"
      ],
      "text/plain": [
       "                       County     km score    GM score  IF score\n",
       "0       Shannon, South Dakota  1970.018443 -197.420106 -0.137898\n",
       "1    St. Louis City, Missouri  1332.735955         NaN       NaN\n",
       "2        Crittenden, Arkansas  1208.900834         NaN       NaN\n",
       "3   Petersburg City, Virginia  1017.910163         NaN       NaN\n",
       "4    Baltimore City, Maryland   918.374430         NaN       NaN\n",
       "5             Apache, Arizona          NaN -133.042814 -0.092279\n",
       "6          New York, New York          NaN -131.452092       NaN\n",
       "7              Willacy, Texas          NaN -129.450559       NaN\n",
       "8       Rolette, North Dakota          NaN -126.696033 -0.080971\n",
       "9           Big Horn, Montana          NaN         NaN -0.085660\n",
       "10    East Carroll, Louisiana          NaN         NaN -0.075939"
      ]
     },
     "execution_count": 39,
     "metadata": {},
     "output_type": "execute_result"
    }
   ],
   "source": [
    "df_"
   ]
  },
  {
   "cell_type": "markdown",
   "metadata": {},
   "source": [
    "I found that Shannon, South Dakota is identified by all three methods. Apache, Arizona and Rolette, North Dakota are both identified by GM and IF methods."
   ]
  },
  {
   "cell_type": "code",
   "execution_count": 40,
   "metadata": {
    "collapsed": true
   },
   "outputs": [],
   "source": [
    "df = Data3[(Data3['County']=='Shannon, South Dakota')|(Data3['County']=='Apache, Arizona')|(Data3['County']=='Rolette, North Dakota')]"
   ]
  },
  {
   "cell_type": "code",
   "execution_count": 41,
   "metadata": {},
   "outputs": [
    {
     "data": {
      "text/html": [
       "<div>\n",
       "<table border=\"1\" class=\"dataframe\">\n",
       "  <thead>\n",
       "    <tr style=\"text-align: right;\">\n",
       "      <th></th>\n",
       "      <th>'\\% Smokers'</th>\n",
       "      <th>'\\% Obese'</th>\n",
       "      <th>'Violent Crime Rate'</th>\n",
       "      <th>'80/20 Income Ratio'</th>\n",
       "      <th>'\\% Children in Poverty'</th>\n",
       "      <th>'Average Daily PM2.5'</th>\n",
       "    </tr>\n",
       "  </thead>\n",
       "  <tbody>\n",
       "    <tr>\n",
       "      <th>66</th>\n",
       "      <td>26</td>\n",
       "      <td>33</td>\n",
       "      <td>94</td>\n",
       "      <td>6.3</td>\n",
       "      <td>40</td>\n",
       "      <td>9.8</td>\n",
       "    </tr>\n",
       "    <tr>\n",
       "      <th>1577</th>\n",
       "      <td>38</td>\n",
       "      <td>41</td>\n",
       "      <td>29</td>\n",
       "      <td>7.7</td>\n",
       "      <td>41</td>\n",
       "      <td>9.6</td>\n",
       "    </tr>\n",
       "    <tr>\n",
       "      <th>1890</th>\n",
       "      <td>41</td>\n",
       "      <td>45</td>\n",
       "      <td>0</td>\n",
       "      <td>6.5</td>\n",
       "      <td>54</td>\n",
       "      <td>11.8</td>\n",
       "    </tr>\n",
       "  </tbody>\n",
       "</table>\n",
       "</div>"
      ],
      "text/plain": [
       "     '\\% Smokers'  '\\% Obese' 'Violent Crime Rate' '80/20 Income Ratio'  \\\n",
       "66             26          33                   94                  6.3   \n",
       "1577           38          41                   29                  7.7   \n",
       "1890           41          45                    0                  6.5   \n",
       "\n",
       "     '\\% Children in Poverty' 'Average Daily PM2.5'  \n",
       "66                         40                   9.8  \n",
       "1577                       41                   9.6  \n",
       "1890                       54                  11.8  "
      ]
     },
     "execution_count": 41,
     "metadata": {},
     "output_type": "execute_result"
    }
   ],
   "source": [
    "df[[\"'\\% Smokers'\",\"'\\% Obese'\",\"'Violent Crime Rate'\",\"'80/20 Income Ratio'\",\"'\\% Children in Poverty'\",\"'Average Daily PM2.5'\"]]"
   ]
  },
  {
   "cell_type": "code",
   "execution_count": 42,
   "metadata": {},
   "outputs": [
    {
     "data": {
      "text/html": [
       "<div>\n",
       "<table border=\"1\" class=\"dataframe\">\n",
       "  <thead>\n",
       "    <tr style=\"text-align: right;\">\n",
       "      <th></th>\n",
       "      <th>'\\% Smokers'</th>\n",
       "      <th>'\\% Obese'</th>\n",
       "      <th>'Violent Crime Rate'</th>\n",
       "      <th>'80/20 Income Ratio'</th>\n",
       "      <th>'\\% Children in Poverty'</th>\n",
       "      <th>'Average Daily PM2.5'</th>\n",
       "    </tr>\n",
       "  </thead>\n",
       "  <tbody>\n",
       "    <tr>\n",
       "      <th>count</th>\n",
       "      <td>2486.000000</td>\n",
       "      <td>2486.000000</td>\n",
       "      <td>2486.000000</td>\n",
       "      <td>2486.000000</td>\n",
       "      <td>2486.000000</td>\n",
       "      <td>2486.000000</td>\n",
       "    </tr>\n",
       "    <tr>\n",
       "      <th>mean</th>\n",
       "      <td>18.569992</td>\n",
       "      <td>31.022928</td>\n",
       "      <td>267.538616</td>\n",
       "      <td>4.545133</td>\n",
       "      <td>23.844730</td>\n",
       "      <td>11.720072</td>\n",
       "    </tr>\n",
       "    <tr>\n",
       "      <th>std</th>\n",
       "      <td>3.646631</td>\n",
       "      <td>4.524278</td>\n",
       "      <td>198.532609</td>\n",
       "      <td>0.695486</td>\n",
       "      <td>8.692791</td>\n",
       "      <td>1.535203</td>\n",
       "    </tr>\n",
       "    <tr>\n",
       "      <th>min</th>\n",
       "      <td>7.000000</td>\n",
       "      <td>11.000000</td>\n",
       "      <td>0.000000</td>\n",
       "      <td>2.700000</td>\n",
       "      <td>3.000000</td>\n",
       "      <td>7.200000</td>\n",
       "    </tr>\n",
       "    <tr>\n",
       "      <th>25%</th>\n",
       "      <td>16.000000</td>\n",
       "      <td>29.000000</td>\n",
       "      <td>128.000000</td>\n",
       "      <td>4.100000</td>\n",
       "      <td>17.250000</td>\n",
       "      <td>10.600000</td>\n",
       "    </tr>\n",
       "    <tr>\n",
       "      <th>50%</th>\n",
       "      <td>18.000000</td>\n",
       "      <td>31.000000</td>\n",
       "      <td>216.000000</td>\n",
       "      <td>4.400000</td>\n",
       "      <td>23.000000</td>\n",
       "      <td>12.000000</td>\n",
       "    </tr>\n",
       "    <tr>\n",
       "      <th>75%</th>\n",
       "      <td>21.000000</td>\n",
       "      <td>34.000000</td>\n",
       "      <td>356.750000</td>\n",
       "      <td>4.900000</td>\n",
       "      <td>29.000000</td>\n",
       "      <td>13.000000</td>\n",
       "    </tr>\n",
       "    <tr>\n",
       "      <th>max</th>\n",
       "      <td>41.000000</td>\n",
       "      <td>46.000000</td>\n",
       "      <td>1885.000000</td>\n",
       "      <td>8.700000</td>\n",
       "      <td>54.000000</td>\n",
       "      <td>14.900000</td>\n",
       "    </tr>\n",
       "  </tbody>\n",
       "</table>\n",
       "</div>"
      ],
      "text/plain": [
       "       '\\% Smokers'   '\\% Obese'  'Violent Crime Rate'  '80/20 Income Ratio'  \\\n",
       "count   2486.000000  2486.000000           2486.000000           2486.000000   \n",
       "mean      18.569992    31.022928            267.538616              4.545133   \n",
       "std        3.646631     4.524278            198.532609              0.695486   \n",
       "min        7.000000    11.000000              0.000000              2.700000   \n",
       "25%       16.000000    29.000000            128.000000              4.100000   \n",
       "50%       18.000000    31.000000            216.000000              4.400000   \n",
       "75%       21.000000    34.000000            356.750000              4.900000   \n",
       "max       41.000000    46.000000           1885.000000              8.700000   \n",
       "\n",
       "       '\\% Children in Poverty'  'Average Daily PM2.5'  \n",
       "count               2486.000000            2486.000000  \n",
       "mean                  23.844730              11.720072  \n",
       "std                    8.692791               1.535203  \n",
       "min                    3.000000               7.200000  \n",
       "25%                   17.250000              10.600000  \n",
       "50%                   23.000000              12.000000  \n",
       "75%                   29.000000              13.000000  \n",
       "max                   54.000000              14.900000  "
      ]
     },
     "execution_count": 42,
     "metadata": {},
     "output_type": "execute_result"
    }
   ],
   "source": [
    "df_mean = Data2.describe()\n",
    "df_mean[[\"'\\% Smokers'\",\"'\\% Obese'\",\"'Violent Crime Rate'\",\"'80/20 Income Ratio'\",\"'\\% Children in Poverty'\",\"'Average Daily PM2.5'\"]]"
   ]
  },
  {
   "cell_type": "markdown",
   "metadata": {
    "collapsed": true
   },
   "source": [
    "By comparing with the mean values. I found that all of the three cities have high percentages of smokers, obese,80/20 income ratio, children in poverty, and low percentages of violent crime rate. The other cities identified as anomalous using three methods are different. This may be because these records all show some different characteristics but not as consistent as the above three counties and are captured by different methods."
   ]
  },
  {
   "cell_type": "code",
   "execution_count": null,
   "metadata": {
    "collapsed": true
   },
   "outputs": [],
   "source": []
  }
 ],
 "metadata": {
  "anaconda-cloud": {},
  "kernelspec": {
   "display_name": "Python 2",
   "language": "python",
   "name": "python2"
  },
  "language_info": {
   "codemirror_mode": {
    "name": "ipython",
    "version": 2
   },
   "file_extension": ".py",
   "mimetype": "text/x-python",
   "name": "python",
   "nbconvert_exporter": "python",
   "pygments_lexer": "ipython2",
   "version": "2.7.14"
  }
 },
 "nbformat": 4,
 "nbformat_minor": 1
}
